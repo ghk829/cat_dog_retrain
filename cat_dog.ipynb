{
 "cells": [
  {
   "cell_type": "code",
   "execution_count": 191,
   "metadata": {},
   "outputs": [],
   "source": [
    "from keras.preprocessing.image import ImageDataGenerator"
   ]
  },
  {
   "cell_type": "code",
   "execution_count": 192,
   "metadata": {},
   "outputs": [],
   "source": [
    "train_datagen = ImageDataGenerator(rescale = 1./255,rotation_range=40,\n",
    "                                       width_shift_range=0.2,\n",
    "                                       height_shift_range=0.2,\n",
    "                                       shear_range=0.2,\n",
    "                                       zoom_range=0.2,\n",
    "                                       channel_shift_range=10,\n",
    "                                       horizontal_flip=True,\n",
    "                                       fill_mode='nearest')"
   ]
  },
  {
   "cell_type": "code",
   "execution_count": 193,
   "metadata": {},
   "outputs": [],
   "source": [
    "validation_datagen = ImageDataGenerator(rescale = 1./255,rotation_range=40,\n",
    "                                       width_shift_range=0.2,\n",
    "                                       height_shift_range=0.2,\n",
    "                                       shear_range=0.2,\n",
    "                                       zoom_range=0.2,\n",
    "                                       channel_shift_range=10,\n",
    "                                       horizontal_flip=True,\n",
    "                                       fill_mode='nearest')"
   ]
  },
  {
   "cell_type": "code",
   "execution_count": 194,
   "metadata": {},
   "outputs": [],
   "source": [
    "BATCH_SIZE = 64"
   ]
  },
  {
   "cell_type": "code",
   "execution_count": 195,
   "metadata": {},
   "outputs": [
    {
     "name": "stdout",
     "output_type": "stream",
     "text": [
      "Found 15724 images belonging to 2 classes.\n"
     ]
    }
   ],
   "source": [
    "training_set = train_datagen.flow_from_directory('train',\n",
    "                                                 target_size = (128, 128),\n",
    "                                                 batch_size = BATCH_SIZE,\n",
    "                                                 class_mode = 'binary')"
   ]
  },
  {
   "cell_type": "code",
   "execution_count": 196,
   "metadata": {},
   "outputs": [
    {
     "name": "stdout",
     "output_type": "stream",
     "text": [
      "Found 1964 images belonging to 2 classes.\n"
     ]
    }
   ],
   "source": [
    "validation_set = validation_datagen.flow_from_directory('validation',\n",
    "                                            target_size = (128, 128),\n",
    "                                            batch_size = BATCH_SIZE,\n",
    "                                            class_mode = 'binary')"
   ]
  },
  {
   "cell_type": "markdown",
   "metadata": {},
   "source": [
    "## layers"
   ]
  },
  {
   "cell_type": "code",
   "execution_count": 197,
   "metadata": {},
   "outputs": [],
   "source": [
    "import keras.layers as layers\n",
    "from keras.models import Model\n",
    "from keras.layers import Input, Conv2D, MaxPooling2D, UpSampling2D, ZeroPadding2D,MaxPool2D,Flatten,Dense,Dropout,BatchNormalization"
   ]
  },
  {
   "cell_type": "code",
   "execution_count": 198,
   "metadata": {},
   "outputs": [],
   "source": [
    "from keras.callbacks import TensorBoard"
   ]
  },
  {
   "cell_type": "code",
   "execution_count": 200,
   "metadata": {},
   "outputs": [],
   "source": [
    "input_shape=(128,128,3)\n",
    "epochs = 150"
   ]
  },
  {
   "cell_type": "code",
   "execution_count": 201,
   "metadata": {
    "scrolled": true
   },
   "outputs": [
    {
     "name": "stdout",
     "output_type": "stream",
     "text": [
      "_________________________________________________________________\n",
      "Layer (type)                 Output Shape              Param #   \n",
      "=================================================================\n",
      "input_7 (InputLayer)         (None, 128, 128, 3)       0         \n",
      "_________________________________________________________________\n",
      "conv2d_31 (Conv2D)           (None, 128, 128, 16)      448       \n",
      "_________________________________________________________________\n",
      "batch_normalization_12 (Batc (None, 128, 128, 16)      64        \n",
      "_________________________________________________________________\n",
      "conv2d_32 (Conv2D)           (None, 128, 128, 64)      9280      \n",
      "_________________________________________________________________\n",
      "batch_normalization_13 (Batc (None, 128, 128, 64)      256       \n",
      "_________________________________________________________________\n",
      "max_pooling2d_25 (MaxPooling (None, 64, 64, 64)        0         \n",
      "_________________________________________________________________\n",
      "conv2d_33 (Conv2D)           (None, 64, 64, 128)       73856     \n",
      "_________________________________________________________________\n",
      "batch_normalization_14 (Batc (None, 64, 64, 128)       512       \n",
      "_________________________________________________________________\n",
      "max_pooling2d_26 (MaxPooling (None, 32, 32, 128)       0         \n",
      "_________________________________________________________________\n",
      "conv2d_34 (Conv2D)           (None, 32, 32, 64)        73792     \n",
      "_________________________________________________________________\n",
      "batch_normalization_15 (Batc (None, 32, 32, 64)        256       \n",
      "_________________________________________________________________\n",
      "max_pooling2d_27 (MaxPooling (None, 16, 16, 64)        0         \n",
      "_________________________________________________________________\n",
      "conv2d_35 (Conv2D)           (None, 16, 16, 32)        18464     \n",
      "_________________________________________________________________\n",
      "batch_normalization_16 (Batc (None, 16, 16, 32)        128       \n",
      "_________________________________________________________________\n",
      "max_pooling2d_28 (MaxPooling (None, 8, 8, 32)          0         \n",
      "_________________________________________________________________\n",
      "flatten_7 (Flatten)          (None, 2048)              0         \n",
      "_________________________________________________________________\n",
      "dense_19 (Dense)             (None, 50)                102450    \n",
      "_________________________________________________________________\n",
      "dropout_13 (Dropout)         (None, 50)                0         \n",
      "_________________________________________________________________\n",
      "batch_normalization_17 (Batc (None, 50)                200       \n",
      "_________________________________________________________________\n",
      "dense_20 (Dense)             (None, 50)                2550      \n",
      "_________________________________________________________________\n",
      "dropout_14 (Dropout)         (None, 50)                0         \n",
      "_________________________________________________________________\n",
      "dense_21 (Dense)             (None, 1)                 51        \n",
      "=================================================================\n",
      "Total params: 282,307\n",
      "Trainable params: 281,599\n",
      "Non-trainable params: 708\n",
      "_________________________________________________________________\n"
     ]
    }
   ],
   "source": [
    "input_img = Input(input_shape)\n",
    "x = Conv2D(filters=16, kernel_size=(3,3), activation='relu', padding='Same')(input_img)\n",
    "x = BatchNormalization()(x)\n",
    "x = Conv2D(filters=64, kernel_size=(3,3), activation='relu', padding='Same')(x)\n",
    "x = BatchNormalization()(x)\n",
    "x = MaxPool2D(pool_size=(2,2))(x)\n",
    "x = Conv2D(filters=128, kernel_size=(3,3), activation='relu', padding='Same')(x)\n",
    "x = BatchNormalization()(x)\n",
    "x = MaxPool2D(pool_size=(2,2))(x)\n",
    "x = Conv2D(filters=64, kernel_size=(3,3), activation='relu', padding='Same')(x)\n",
    "x = BatchNormalization()(x)\n",
    "x = MaxPool2D(pool_size=(2,2))(x)\n",
    "x = Conv2D(filters=32, kernel_size=(3,3), activation='relu', padding='Same')(x)\n",
    "x = BatchNormalization()(x)\n",
    "x = MaxPool2D(pool_size=(2,2))(x)\n",
    "x = Flatten()(x)\n",
    "x = Dense(50,activation='relu')(x)\n",
    "x = Dropout(0.3)(x)\n",
    "x = BatchNormalization()(x)\n",
    "x = Dense(50,activation='relu')(x)\n",
    "x = Dropout(0.3)(x)\n",
    "tensor = Dense(1,activation='sigmoid')(x)\n",
    "model = Model([input_img],[tensor])\n",
    "model.summary()"
   ]
  },
  {
   "cell_type": "code",
   "execution_count": 202,
   "metadata": {},
   "outputs": [],
   "source": [
    "from keras.optimizers import RMSprop\n",
    "learning_rate = 0.01\n",
    "decay_rate = learning_rate / epochs\n",
    "sgd = RMSprop(lr=learning_rate, decay=decay_rate)\n",
    "model.compile(optimizer=\"adam\", loss='binary_crossentropy', metrics=['accuracy'])"
   ]
  },
  {
   "cell_type": "code",
   "execution_count": 203,
   "metadata": {
    "scrolled": true
   },
   "outputs": [
    {
     "name": "stdout",
     "output_type": "stream",
     "text": [
      "Epoch 1/150\n"
     ]
    },
    {
     "name": "stderr",
     "output_type": "stream",
     "text": [
      "/home/ki/miniconda3/envs/cuda/lib/python3.5/site-packages/PIL/TiffImagePlugin.py:763: UserWarning: Possibly corrupt EXIF data.  Expecting to read 8589934590 bytes but only got 37573. Skipping tag 34855\n",
      "  \" Skipping tag %s\" % (size, len(data), tag))\n"
     ]
    },
    {
     "name": "stdout",
     "output_type": "stream",
     "text": [
      "  9/245 [>.............................] - ETA: 1:56 - loss: 0.7927 - acc: 0.5104"
     ]
    },
    {
     "name": "stderr",
     "output_type": "stream",
     "text": [
      "/home/ki/miniconda3/envs/cuda/lib/python3.5/site-packages/PIL/TiffImagePlugin.py:763: UserWarning: Possibly corrupt EXIF data.  Expecting to read 3473408 bytes but only got 0. Skipping tag 0\n",
      "  \" Skipping tag %s\" % (size, len(data), tag))\n",
      "/home/ki/miniconda3/envs/cuda/lib/python3.5/site-packages/PIL/TiffImagePlugin.py:780: UserWarning: Corrupt EXIF data.  Expecting to read 12 bytes but only got 11. \n",
      "  warnings.warn(str(msg))\n"
     ]
    },
    {
     "name": "stdout",
     "output_type": "stream",
     "text": [
      "108/245 [============>.................] - ETA: 1:00 - loss: 0.7334 - acc: 0.5369"
     ]
    },
    {
     "name": "stderr",
     "output_type": "stream",
     "text": [
      "/home/ki/miniconda3/envs/cuda/lib/python3.5/site-packages/PIL/TiffImagePlugin.py:763: UserWarning: Possibly corrupt EXIF data.  Expecting to read 1114112 bytes but only got 0. Skipping tag 0\n",
      "  \" Skipping tag %s\" % (size, len(data), tag))\n"
     ]
    },
    {
     "name": "stdout",
     "output_type": "stream",
     "text": [
      "126/245 [==============>...............] - ETA: 52s - loss: 0.7300 - acc: 0.5378"
     ]
    },
    {
     "name": "stderr",
     "output_type": "stream",
     "text": [
      "/home/ki/miniconda3/envs/cuda/lib/python3.5/site-packages/PIL/TiffImagePlugin.py:763: UserWarning: Possibly corrupt EXIF data.  Expecting to read 8589934590 bytes but only got 28996. Skipping tag 34855\n",
      "  \" Skipping tag %s\" % (size, len(data), tag))\n"
     ]
    },
    {
     "name": "stdout",
     "output_type": "stream",
     "text": [
      "175/245 [====================>.........] - ETA: 30s - loss: 0.7209 - acc: 0.5408"
     ]
    },
    {
     "name": "stderr",
     "output_type": "stream",
     "text": [
      "/home/ki/miniconda3/envs/cuda/lib/python3.5/site-packages/PIL/TiffImagePlugin.py:780: UserWarning: Corrupt EXIF data.  Expecting to read 2 bytes but only got 0. \n",
      "  warnings.warn(str(msg))\n"
     ]
    },
    {
     "name": "stdout",
     "output_type": "stream",
     "text": [
      "191/245 [======================>.......] - ETA: 23s - loss: 0.7175 - acc: 0.5436"
     ]
    },
    {
     "name": "stderr",
     "output_type": "stream",
     "text": [
      "/home/ki/miniconda3/envs/cuda/lib/python3.5/site-packages/PIL/TiffImagePlugin.py:763: UserWarning: Possibly corrupt EXIF data.  Expecting to read 2818048 bytes but only got 0. Skipping tag 0\n",
      "  \" Skipping tag %s\" % (size, len(data), tag))\n"
     ]
    },
    {
     "name": "stdout",
     "output_type": "stream",
     "text": [
      "245/245 [==============================] - 115s 471ms/step - loss: 0.7104 - acc: 0.5493 - val_loss: 0.6674 - val_acc: 0.5844\n",
      "Epoch 2/150\n",
      "245/245 [==============================] - 115s 471ms/step - loss: 0.6666 - acc: 0.5929 - val_loss: 0.6617 - val_acc: 0.5826\n",
      "Epoch 3/150\n",
      "245/245 [==============================] - 115s 468ms/step - loss: 0.6528 - acc: 0.6163 - val_loss: 0.6539 - val_acc: 0.6100\n",
      "Epoch 4/150\n",
      "245/245 [==============================] - 115s 467ms/step - loss: 0.6413 - acc: 0.6338 - val_loss: 0.6634 - val_acc: 0.5953\n",
      "Epoch 5/150\n",
      "245/245 [==============================] - 114s 465ms/step - loss: 0.6283 - acc: 0.6456 - val_loss: 0.7439 - val_acc: 0.5500\n",
      "Epoch 6/150\n",
      "245/245 [==============================] - 113s 462ms/step - loss: 0.6114 - acc: 0.6643 - val_loss: 0.6151 - val_acc: 0.6632\n",
      "Epoch 7/150\n",
      "245/245 [==============================] - 112s 459ms/step - loss: 0.5930 - acc: 0.6804 - val_loss: 0.6218 - val_acc: 0.6621\n",
      "Epoch 8/150\n",
      "245/245 [==============================] - 112s 456ms/step - loss: 0.5625 - acc: 0.7107 - val_loss: 0.5899 - val_acc: 0.6821\n",
      "Epoch 9/150\n",
      "245/245 [==============================] - 111s 453ms/step - loss: 0.5252 - acc: 0.7399 - val_loss: 0.6499 - val_acc: 0.6432\n",
      "Epoch 10/150\n",
      "245/245 [==============================] - 111s 452ms/step - loss: 0.4918 - acc: 0.7631 - val_loss: 0.5860 - val_acc: 0.7147\n",
      "Epoch 11/150\n",
      "245/245 [==============================] - 110s 448ms/step - loss: 0.4598 - acc: 0.7828 - val_loss: 0.4817 - val_acc: 0.7605\n",
      "Epoch 12/150\n",
      "245/245 [==============================] - 110s 448ms/step - loss: 0.4440 - acc: 0.7916 - val_loss: 0.4819 - val_acc: 0.7600\n",
      "Epoch 13/150\n",
      "245/245 [==============================] - 111s 452ms/step - loss: 0.4105 - acc: 0.8094 - val_loss: 0.4496 - val_acc: 0.7774\n",
      "Epoch 14/150\n",
      "245/245 [==============================] - 109s 443ms/step - loss: 0.3964 - acc: 0.8183 - val_loss: 0.4603 - val_acc: 0.7811\n",
      "Epoch 15/150\n",
      "245/245 [==============================] - 108s 442ms/step - loss: 0.3816 - acc: 0.8297 - val_loss: 0.4322 - val_acc: 0.7979\n",
      "Epoch 16/150\n",
      "245/245 [==============================] - 111s 454ms/step - loss: 0.3681 - acc: 0.8384 - val_loss: 0.3974 - val_acc: 0.8079\n",
      "Epoch 17/150\n",
      "245/245 [==============================] - 108s 440ms/step - loss: 0.3566 - acc: 0.8394 - val_loss: 0.4680 - val_acc: 0.7737\n",
      "Epoch 18/150\n",
      "245/245 [==============================] - 107s 436ms/step - loss: 0.3368 - acc: 0.8530 - val_loss: 0.4050 - val_acc: 0.8232\n",
      "Epoch 19/150\n",
      "245/245 [==============================] - 108s 440ms/step - loss: 0.3426 - acc: 0.8492 - val_loss: 0.3948 - val_acc: 0.8195\n",
      "Epoch 20/150\n",
      "245/245 [==============================] - 108s 441ms/step - loss: 0.3254 - acc: 0.8597 - val_loss: 0.4331 - val_acc: 0.7989\n",
      "Epoch 21/150\n",
      "245/245 [==============================] - 107s 436ms/step - loss: 0.3092 - acc: 0.8658 - val_loss: 0.4345 - val_acc: 0.7932\n",
      "Epoch 22/150\n",
      "245/245 [==============================] - 108s 440ms/step - loss: 0.3072 - acc: 0.8689 - val_loss: 0.5379 - val_acc: 0.7684\n",
      "Epoch 23/150\n",
      "245/245 [==============================] - 107s 437ms/step - loss: 0.3048 - acc: 0.8673 - val_loss: 0.3336 - val_acc: 0.8537\n",
      "Epoch 24/150\n",
      "245/245 [==============================] - 107s 437ms/step - loss: 0.2936 - acc: 0.8753 - val_loss: 0.3569 - val_acc: 0.8395\n",
      "Epoch 25/150\n",
      "245/245 [==============================] - 107s 438ms/step - loss: 0.2939 - acc: 0.8738 - val_loss: 0.5384 - val_acc: 0.7563\n",
      "Epoch 26/150\n",
      "245/245 [==============================] - 108s 441ms/step - loss: 0.2915 - acc: 0.8773 - val_loss: 0.3709 - val_acc: 0.8384\n",
      "Epoch 27/150\n",
      "245/245 [==============================] - 107s 438ms/step - loss: 0.2771 - acc: 0.8804 - val_loss: 0.3148 - val_acc: 0.8632\n",
      "Epoch 28/150\n",
      "245/245 [==============================] - 108s 439ms/step - loss: 0.2706 - acc: 0.8849 - val_loss: 0.4894 - val_acc: 0.7732\n",
      "Epoch 29/150\n",
      "245/245 [==============================] - 107s 438ms/step - loss: 0.2742 - acc: 0.8833 - val_loss: 0.2992 - val_acc: 0.8658\n",
      "Epoch 30/150\n",
      "245/245 [==============================] - 107s 438ms/step - loss: 0.2709 - acc: 0.8846 - val_loss: 0.3310 - val_acc: 0.8400\n",
      "Epoch 31/150\n",
      "245/245 [==============================] - 110s 451ms/step - loss: 0.2630 - acc: 0.8889 - val_loss: 0.3444 - val_acc: 0.8458\n",
      "Epoch 32/150\n",
      "245/245 [==============================] - 108s 442ms/step - loss: 0.2519 - acc: 0.8968 - val_loss: 0.3608 - val_acc: 0.8557\n",
      "Epoch 33/150\n",
      "245/245 [==============================] - 111s 454ms/step - loss: 0.2536 - acc: 0.8935 - val_loss: 0.2999 - val_acc: 0.8674\n",
      "Epoch 34/150\n",
      "245/245 [==============================] - 111s 452ms/step - loss: 0.2514 - acc: 0.8961 - val_loss: 0.3566 - val_acc: 0.8405\n",
      "Epoch 35/150\n",
      "245/245 [==============================] - 111s 453ms/step - loss: 0.2429 - acc: 0.9001 - val_loss: 0.2828 - val_acc: 0.8800\n",
      "Epoch 36/150\n",
      "245/245 [==============================] - 110s 451ms/step - loss: 0.2454 - acc: 0.8983 - val_loss: 0.3744 - val_acc: 0.8511\n",
      "Epoch 37/150\n",
      "245/245 [==============================] - 110s 448ms/step - loss: 0.2438 - acc: 0.8984 - val_loss: 0.3637 - val_acc: 0.8437\n",
      "Epoch 38/150\n",
      "245/245 [==============================] - 110s 447ms/step - loss: 0.2377 - acc: 0.9021 - val_loss: 0.3343 - val_acc: 0.8532\n",
      "Epoch 39/150\n",
      "245/245 [==============================] - 109s 446ms/step - loss: 0.2319 - acc: 0.9032 - val_loss: 0.3117 - val_acc: 0.8637\n",
      "Epoch 40/150\n",
      "245/245 [==============================] - 109s 446ms/step - loss: 0.2361 - acc: 0.9028 - val_loss: 0.2816 - val_acc: 0.8768\n",
      "Epoch 41/150\n",
      "245/245 [==============================] - 108s 443ms/step - loss: 0.2283 - acc: 0.9045 - val_loss: 0.5247 - val_acc: 0.8021\n",
      "Epoch 42/150\n",
      "245/245 [==============================] - 111s 454ms/step - loss: 0.2268 - acc: 0.9044 - val_loss: 0.2706 - val_acc: 0.8863\n",
      "Epoch 43/150\n",
      "245/245 [==============================] - 109s 444ms/step - loss: 0.2240 - acc: 0.9082 - val_loss: 0.2796 - val_acc: 0.8742\n",
      "Epoch 44/150\n",
      "245/245 [==============================] - 108s 440ms/step - loss: 0.2208 - acc: 0.9092 - val_loss: 0.3899 - val_acc: 0.8211\n",
      "Epoch 45/150\n",
      "245/245 [==============================] - 110s 449ms/step - loss: 0.2234 - acc: 0.9057 - val_loss: 0.3437 - val_acc: 0.8563\n",
      "Epoch 46/150\n",
      "245/245 [==============================] - 108s 440ms/step - loss: 0.2166 - acc: 0.9123 - val_loss: 0.2827 - val_acc: 0.8821\n",
      "Epoch 47/150\n",
      "245/245 [==============================] - 108s 440ms/step - loss: 0.2086 - acc: 0.9137 - val_loss: 0.3822 - val_acc: 0.8442\n",
      "Epoch 48/150\n",
      "245/245 [==============================] - 107s 438ms/step - loss: 0.2131 - acc: 0.9121 - val_loss: 0.2945 - val_acc: 0.8800\n",
      "Epoch 49/150\n",
      "245/245 [==============================] - 107s 437ms/step - loss: 0.2110 - acc: 0.9121 - val_loss: 0.2824 - val_acc: 0.8753\n",
      "Epoch 50/150\n",
      "245/245 [==============================] - 108s 441ms/step - loss: 0.2089 - acc: 0.9146 - val_loss: 0.2486 - val_acc: 0.8942\n",
      "Epoch 51/150\n",
      "245/245 [==============================] - 108s 439ms/step - loss: 0.2104 - acc: 0.9132 - val_loss: 0.2719 - val_acc: 0.8753\n",
      "Epoch 52/150\n",
      "245/245 [==============================] - 107s 438ms/step - loss: 0.2027 - acc: 0.9163 - val_loss: 0.2848 - val_acc: 0.8716\n",
      "Epoch 53/150\n",
      "245/245 [==============================] - 108s 440ms/step - loss: 0.2102 - acc: 0.9128 - val_loss: 0.2629 - val_acc: 0.8900\n",
      "Epoch 54/150\n",
      "245/245 [==============================] - 108s 439ms/step - loss: 0.2043 - acc: 0.9162 - val_loss: 0.2574 - val_acc: 0.8932\n",
      "Epoch 55/150\n",
      "245/245 [==============================] - 108s 440ms/step - loss: 0.2040 - acc: 0.9169 - val_loss: 0.2995 - val_acc: 0.8716\n",
      "Epoch 56/150\n",
      "245/245 [==============================] - 108s 441ms/step - loss: 0.1949 - acc: 0.9234 - val_loss: 0.4360 - val_acc: 0.8305\n",
      "Epoch 57/150\n",
      "245/245 [==============================] - 108s 439ms/step - loss: 0.2068 - acc: 0.9168 - val_loss: 0.2802 - val_acc: 0.8842\n",
      "Epoch 58/150\n",
      "245/245 [==============================] - 107s 439ms/step - loss: 0.2000 - acc: 0.9170 - val_loss: 0.2758 - val_acc: 0.8805\n",
      "Epoch 59/150\n",
      "245/245 [==============================] - 108s 439ms/step - loss: 0.1918 - acc: 0.9228 - val_loss: 0.2605 - val_acc: 0.8900\n",
      "Epoch 60/150\n",
      "245/245 [==============================] - 108s 441ms/step - loss: 0.1960 - acc: 0.9180 - val_loss: 0.2556 - val_acc: 0.8937\n",
      "Epoch 61/150\n",
      "245/245 [==============================] - 108s 439ms/step - loss: 0.1915 - acc: 0.9224 - val_loss: 0.2395 - val_acc: 0.9026\n",
      "Epoch 62/150\n",
      "245/245 [==============================] - 107s 439ms/step - loss: 0.1946 - acc: 0.9222 - val_loss: 0.2828 - val_acc: 0.8805\n",
      "Epoch 63/150\n",
      "245/245 [==============================] - 108s 442ms/step - loss: 0.1897 - acc: 0.9230 - val_loss: 0.2805 - val_acc: 0.8802\n",
      "Epoch 64/150\n",
      "245/245 [==============================] - 112s 456ms/step - loss: 0.1887 - acc: 0.9230 - val_loss: 0.2447 - val_acc: 0.8953\n",
      "Epoch 65/150\n",
      "245/245 [==============================] - 111s 453ms/step - loss: 0.1864 - acc: 0.9246 - val_loss: 0.4211 - val_acc: 0.8326\n",
      "Epoch 66/150\n",
      "245/245 [==============================] - 110s 451ms/step - loss: 0.1849 - acc: 0.9265 - val_loss: 0.2466 - val_acc: 0.8989\n",
      "Epoch 67/150\n",
      "245/245 [==============================] - 111s 452ms/step - loss: 0.1843 - acc: 0.9252 - val_loss: 0.4358 - val_acc: 0.8184\n",
      "Epoch 68/150\n",
      "245/245 [==============================] - 110s 451ms/step - loss: 0.1804 - acc: 0.9279 - val_loss: 0.2519 - val_acc: 0.8942\n",
      "Epoch 69/150\n",
      "245/245 [==============================] - 109s 447ms/step - loss: 0.1821 - acc: 0.9234 - val_loss: 0.3569 - val_acc: 0.8547\n",
      "Epoch 70/150\n",
      "245/245 [==============================] - 109s 446ms/step - loss: 0.1808 - acc: 0.9262 - val_loss: 0.2943 - val_acc: 0.8853\n",
      "Epoch 71/150\n",
      "245/245 [==============================] - 109s 444ms/step - loss: 0.1733 - acc: 0.9312 - val_loss: 0.2415 - val_acc: 0.8963\n",
      "Epoch 72/150\n",
      "245/245 [==============================] - 109s 444ms/step - loss: 0.1724 - acc: 0.9312 - val_loss: 0.3235 - val_acc: 0.8532\n",
      "Epoch 73/150\n",
      "245/245 [==============================] - 111s 453ms/step - loss: 0.1733 - acc: 0.9302 - val_loss: 0.3703 - val_acc: 0.8737\n",
      "Epoch 74/150\n",
      "245/245 [==============================] - 109s 446ms/step - loss: 0.1709 - acc: 0.9304 - val_loss: 0.2855 - val_acc: 0.8737\n",
      "Epoch 75/150\n",
      "245/245 [==============================] - 108s 441ms/step - loss: 0.1809 - acc: 0.9281 - val_loss: 0.2265 - val_acc: 0.9021\n",
      "Epoch 76/150\n",
      "245/245 [==============================] - 110s 449ms/step - loss: 0.1752 - acc: 0.9275 - val_loss: 0.2990 - val_acc: 0.8811\n",
      "Epoch 77/150\n",
      "245/245 [==============================] - 109s 444ms/step - loss: 0.1734 - acc: 0.9307 - val_loss: 0.2417 - val_acc: 0.9063\n",
      "Epoch 78/150\n",
      "245/245 [==============================] - 108s 440ms/step - loss: 0.1717 - acc: 0.9320 - val_loss: 0.3114 - val_acc: 0.8674\n",
      "Epoch 79/150\n",
      "245/245 [==============================] - 108s 440ms/step - loss: 0.1706 - acc: 0.9320 - val_loss: 0.2517 - val_acc: 0.8963\n",
      "Epoch 80/150\n",
      "245/245 [==============================] - 107s 437ms/step - loss: 0.1748 - acc: 0.9271 - val_loss: 0.4265 - val_acc: 0.8305\n",
      "Epoch 81/150\n",
      "245/245 [==============================] - 107s 437ms/step - loss: 0.1668 - acc: 0.9326 - val_loss: 0.2113 - val_acc: 0.9121\n",
      "Epoch 82/150\n",
      "245/245 [==============================] - 107s 437ms/step - loss: 0.1644 - acc: 0.9351 - val_loss: 0.2227 - val_acc: 0.9063\n",
      "Epoch 83/150\n",
      "245/245 [==============================] - 107s 436ms/step - loss: 0.1621 - acc: 0.9325 - val_loss: 0.2642 - val_acc: 0.8816\n",
      "Epoch 84/150\n",
      "245/245 [==============================] - 107s 437ms/step - loss: 0.1694 - acc: 0.9320 - val_loss: 0.2598 - val_acc: 0.9000\n",
      "Epoch 85/150\n",
      "245/245 [==============================] - 107s 437ms/step - loss: 0.1619 - acc: 0.9352 - val_loss: 0.2826 - val_acc: 0.8826\n",
      "Epoch 86/150\n",
      "245/245 [==============================] - 108s 439ms/step - loss: 0.1614 - acc: 0.9330 - val_loss: 0.3391 - val_acc: 0.8716\n",
      "Epoch 87/150\n",
      "245/245 [==============================] - 108s 440ms/step - loss: 0.1654 - acc: 0.9328 - val_loss: 0.2473 - val_acc: 0.9058\n",
      "Epoch 88/150\n",
      "245/245 [==============================] - 110s 449ms/step - loss: 0.1638 - acc: 0.9343 - val_loss: 0.2443 - val_acc: 0.8995\n",
      "Epoch 89/150\n",
      "245/245 [==============================] - 109s 443ms/step - loss: 0.1627 - acc: 0.9373 - val_loss: 0.3013 - val_acc: 0.8884\n",
      "Epoch 90/150\n",
      "245/245 [==============================] - 108s 441ms/step - loss: 0.1552 - acc: 0.9360 - val_loss: 0.4461 - val_acc: 0.8316\n",
      "Epoch 91/150\n",
      "245/245 [==============================] - 107s 439ms/step - loss: 0.1523 - acc: 0.9397 - val_loss: 0.2562 - val_acc: 0.8947\n",
      "Epoch 92/150\n",
      "245/245 [==============================] - 107s 438ms/step - loss: 0.1613 - acc: 0.9356 - val_loss: 0.2314 - val_acc: 0.9053\n",
      "Epoch 93/150\n",
      "245/245 [==============================] - 107s 437ms/step - loss: 0.1632 - acc: 0.9341 - val_loss: 0.2813 - val_acc: 0.8858\n",
      "Epoch 94/150\n",
      "245/245 [==============================] - 107s 438ms/step - loss: 0.1640 - acc: 0.9350 - val_loss: 0.2421 - val_acc: 0.8990\n",
      "Epoch 95/150\n",
      "245/245 [==============================] - 111s 454ms/step - loss: 0.1491 - acc: 0.9382 - val_loss: 0.3332 - val_acc: 0.8721\n",
      "Epoch 96/150\n",
      "245/245 [==============================] - 111s 453ms/step - loss: 0.1480 - acc: 0.9416 - val_loss: 0.2829 - val_acc: 0.8853\n",
      "Epoch 97/150\n",
      "245/245 [==============================] - 113s 461ms/step - loss: 0.1595 - acc: 0.9366 - val_loss: 0.2562 - val_acc: 0.9021\n",
      "Epoch 98/150\n",
      "245/245 [==============================] - 112s 457ms/step - loss: 0.1531 - acc: 0.9369 - val_loss: 0.2530 - val_acc: 0.8926\n",
      "Epoch 99/150\n",
      "245/245 [==============================] - 111s 454ms/step - loss: 0.1456 - acc: 0.9440 - val_loss: 0.2249 - val_acc: 0.8989\n",
      "Epoch 100/150\n",
      "245/245 [==============================] - 110s 449ms/step - loss: 0.1515 - acc: 0.9394 - val_loss: 0.2650 - val_acc: 0.9042\n",
      "Epoch 101/150\n",
      "245/245 [==============================] - 109s 446ms/step - loss: 0.1436 - acc: 0.9431 - val_loss: 0.5342 - val_acc: 0.8337\n",
      "Epoch 102/150\n",
      "245/245 [==============================] - 109s 444ms/step - loss: 0.1528 - acc: 0.9402 - val_loss: 0.2272 - val_acc: 0.9037\n",
      "Epoch 103/150\n",
      "245/245 [==============================] - 109s 443ms/step - loss: 0.1546 - acc: 0.9381 - val_loss: 0.2388 - val_acc: 0.9026\n",
      "Epoch 104/150\n",
      "245/245 [==============================] - 108s 442ms/step - loss: 0.1431 - acc: 0.9439 - val_loss: 0.3363 - val_acc: 0.8726\n",
      "Epoch 105/150\n",
      "245/245 [==============================] - 107s 438ms/step - loss: 0.1477 - acc: 0.9407 - val_loss: 0.2814 - val_acc: 0.8879\n",
      "Epoch 106/150\n",
      "245/245 [==============================] - 108s 439ms/step - loss: 0.1431 - acc: 0.9436 - val_loss: 0.2572 - val_acc: 0.9005\n",
      "Epoch 107/150\n",
      "245/245 [==============================] - 108s 439ms/step - loss: 0.1408 - acc: 0.9424 - val_loss: 0.2585 - val_acc: 0.8989\n",
      "Epoch 108/150\n",
      "245/245 [==============================] - 107s 438ms/step - loss: 0.1455 - acc: 0.9430 - val_loss: 0.2853 - val_acc: 0.8868\n",
      "Epoch 109/150\n",
      "245/245 [==============================] - 107s 439ms/step - loss: 0.1431 - acc: 0.9435 - val_loss: 0.2084 - val_acc: 0.9158\n",
      "Epoch 110/150\n",
      "245/245 [==============================] - 108s 439ms/step - loss: 0.1425 - acc: 0.9438 - val_loss: 0.2486 - val_acc: 0.8968\n",
      "Epoch 111/150\n",
      "245/245 [==============================] - 107s 437ms/step - loss: 0.1471 - acc: 0.9378 - val_loss: 0.2748 - val_acc: 0.8821\n",
      "Epoch 112/150\n",
      "245/245 [==============================] - 107s 438ms/step - loss: 0.1422 - acc: 0.9438 - val_loss: 0.2387 - val_acc: 0.9032\n",
      "Epoch 113/150\n",
      "245/245 [==============================] - 108s 441ms/step - loss: 0.1409 - acc: 0.9448 - val_loss: 0.2296 - val_acc: 0.9163\n",
      "Epoch 114/150\n",
      "245/245 [==============================] - 108s 440ms/step - loss: 0.1470 - acc: 0.9399 - val_loss: 0.2214 - val_acc: 0.9095\n",
      "Epoch 115/150\n",
      "245/245 [==============================] - 108s 439ms/step - loss: 0.1402 - acc: 0.9450 - val_loss: 0.2342 - val_acc: 0.8968\n",
      "Epoch 116/150\n",
      "245/245 [==============================] - 107s 437ms/step - loss: 0.1396 - acc: 0.9431 - val_loss: 0.2594 - val_acc: 0.9047\n",
      "Epoch 117/150\n",
      "245/245 [==============================] - 108s 439ms/step - loss: 0.1420 - acc: 0.9417 - val_loss: 0.2299 - val_acc: 0.9032\n",
      "Epoch 118/150\n",
      "245/245 [==============================] - 108s 441ms/step - loss: 0.1451 - acc: 0.9427 - val_loss: 0.2067 - val_acc: 0.9137\n",
      "Epoch 119/150\n"
     ]
    },
    {
     "name": "stdout",
     "output_type": "stream",
     "text": [
      "245/245 [==============================] - 108s 439ms/step - loss: 0.1384 - acc: 0.9448 - val_loss: 0.2041 - val_acc: 0.9158\n",
      "Epoch 120/150\n",
      "245/245 [==============================] - 107s 438ms/step - loss: 0.1365 - acc: 0.9474 - val_loss: 0.2960 - val_acc: 0.8863\n",
      "Epoch 121/150\n",
      "245/245 [==============================] - 107s 439ms/step - loss: 0.1324 - acc: 0.9455 - val_loss: 0.2547 - val_acc: 0.9037\n",
      "Epoch 122/150\n",
      "245/245 [==============================] - 107s 438ms/step - loss: 0.1435 - acc: 0.9432 - val_loss: 0.2204 - val_acc: 0.9142\n",
      "Epoch 123/150\n",
      "245/245 [==============================] - 108s 439ms/step - loss: 0.1365 - acc: 0.9473 - val_loss: 0.2374 - val_acc: 0.9132\n",
      "Epoch 124/150\n",
      "245/245 [==============================] - 108s 440ms/step - loss: 0.1380 - acc: 0.9455 - val_loss: 0.2428 - val_acc: 0.9095\n",
      "Epoch 125/150\n",
      "245/245 [==============================] - 110s 447ms/step - loss: 0.1384 - acc: 0.9454 - val_loss: 0.3275 - val_acc: 0.8760\n",
      "Epoch 126/150\n",
      "245/245 [==============================] - 114s 465ms/step - loss: 0.1332 - acc: 0.9495 - val_loss: 0.2142 - val_acc: 0.9237\n",
      "Epoch 127/150\n",
      "245/245 [==============================] - 111s 453ms/step - loss: 0.1332 - acc: 0.9477 - val_loss: 0.2318 - val_acc: 0.9153\n",
      "Epoch 128/150\n",
      "245/245 [==============================] - 113s 461ms/step - loss: 0.1387 - acc: 0.9449 - val_loss: 0.2191 - val_acc: 0.8979\n",
      "Epoch 129/150\n",
      "245/245 [==============================] - 112s 458ms/step - loss: 0.1291 - acc: 0.9494 - val_loss: 0.2156 - val_acc: 0.9095\n",
      "Epoch 130/150\n",
      "245/245 [==============================] - 110s 449ms/step - loss: 0.1340 - acc: 0.9477 - val_loss: 0.2811 - val_acc: 0.8953\n",
      "Epoch 131/150\n",
      "245/245 [==============================] - 109s 447ms/step - loss: 0.1224 - acc: 0.9487 - val_loss: 0.2236 - val_acc: 0.9026\n",
      "Epoch 132/150\n",
      "245/245 [==============================] - 110s 448ms/step - loss: 0.1313 - acc: 0.9507 - val_loss: 0.2519 - val_acc: 0.9016\n",
      "Epoch 133/150\n",
      "245/245 [==============================] - 109s 445ms/step - loss: 0.1362 - acc: 0.9450 - val_loss: 0.2582 - val_acc: 0.8916\n",
      "Epoch 134/150\n",
      "245/245 [==============================] - 109s 443ms/step - loss: 0.1334 - acc: 0.9473 - val_loss: 0.2187 - val_acc: 0.9147\n",
      "Epoch 135/150\n",
      "245/245 [==============================] - 109s 443ms/step - loss: 0.1262 - acc: 0.9489 - val_loss: 0.2080 - val_acc: 0.9137\n",
      "Epoch 136/150\n",
      "245/245 [==============================] - 108s 441ms/step - loss: 0.1249 - acc: 0.9513 - val_loss: 0.2121 - val_acc: 0.9179\n",
      "Epoch 137/150\n",
      "245/245 [==============================] - 107s 438ms/step - loss: 0.1220 - acc: 0.9509 - val_loss: 0.3216 - val_acc: 0.8679\n",
      "Epoch 138/150\n",
      "245/245 [==============================] - 107s 438ms/step - loss: 0.1334 - acc: 0.9479 - val_loss: 0.2206 - val_acc: 0.9084\n",
      "Epoch 139/150\n",
      "245/245 [==============================] - 108s 441ms/step - loss: 0.1332 - acc: 0.9466 - val_loss: 0.2220 - val_acc: 0.9142\n",
      "Epoch 140/150\n",
      "245/245 [==============================] - 108s 441ms/step - loss: 0.1269 - acc: 0.9494 - val_loss: 0.2419 - val_acc: 0.9121\n",
      "Epoch 141/150\n",
      "245/245 [==============================] - 107s 438ms/step - loss: 0.1268 - acc: 0.9494 - val_loss: 0.2688 - val_acc: 0.8884\n",
      "Epoch 142/150\n",
      "245/245 [==============================] - 107s 437ms/step - loss: 0.1248 - acc: 0.9514 - val_loss: 0.2191 - val_acc: 0.9100\n",
      "Epoch 143/150\n",
      "245/245 [==============================] - 107s 438ms/step - loss: 0.1310 - acc: 0.9485 - val_loss: 0.2229 - val_acc: 0.9147\n",
      "Epoch 144/150\n",
      "245/245 [==============================] - 107s 437ms/step - loss: 0.1264 - acc: 0.9514 - val_loss: 0.2121 - val_acc: 0.9095\n",
      "Epoch 145/150\n",
      "245/245 [==============================] - 107s 438ms/step - loss: 0.1223 - acc: 0.9526 - val_loss: 0.3029 - val_acc: 0.8968\n",
      "Epoch 146/150\n",
      "245/245 [==============================] - 107s 438ms/step - loss: 0.1219 - acc: 0.9528 - val_loss: 0.2086 - val_acc: 0.9153\n",
      "Epoch 147/150\n",
      "245/245 [==============================] - 107s 438ms/step - loss: 0.1212 - acc: 0.9510 - val_loss: 0.2349 - val_acc: 0.9116\n",
      "Epoch 148/150\n",
      "245/245 [==============================] - 107s 437ms/step - loss: 0.1234 - acc: 0.9490 - val_loss: 0.2373 - val_acc: 0.9074\n",
      "Epoch 149/150\n",
      "245/245 [==============================] - 108s 439ms/step - loss: 0.1189 - acc: 0.9522 - val_loss: 0.1908 - val_acc: 0.9268\n",
      "Epoch 150/150\n",
      "245/245 [==============================] - 107s 438ms/step - loss: 0.1250 - acc: 0.9517 - val_loss: 0.2822 - val_acc: 0.8974\n"
     ]
    },
    {
     "data": {
      "text/plain": [
       "<keras.callbacks.History at 0x7fe4c57c52e8>"
      ]
     },
     "execution_count": 203,
     "metadata": {},
     "output_type": "execute_result"
    }
   ],
   "source": [
    "model.fit_generator(training_set,\n",
    "                         steps_per_epoch = 245,\n",
    "                         epochs = epochs,\n",
    "                         validation_data = validation_set,\n",
    "                         validation_steps = 30,\n",
    "                         shuffle=True,\n",
    "                         callbacks=[TensorBoard(log_dir='/home/ki/git/cat_dog_retrain/tb', histogram_freq=0, write_graph=False)])"
   ]
  },
  {
   "cell_type": "code",
   "execution_count": 210,
   "metadata": {},
   "outputs": [
    {
     "name": "stdout",
     "output_type": "stream",
     "text": [
      "Found 1962 images belonging to 1 classes.\n"
     ]
    }
   ],
   "source": [
    "test_datagen = ImageDataGenerator(rescale=1./255,rotation_range=40,\n",
    "                                       width_shift_range=0.2,\n",
    "                                       height_shift_range=0.2,\n",
    "                                       shear_range=0.2,\n",
    "                                       zoom_range=0.2,\n",
    "                                       channel_shift_range=10,\n",
    "                                       horizontal_flip=True,\n",
    "                                       fill_mode='nearest')\n",
    "\n",
    "test_generator = test_datagen.flow_from_directory(\n",
    "        \"test2\",\n",
    "        target_size=(128,128),\n",
    "        color_mode=\"rgb\",\n",
    "        shuffle = False,\n",
    "        class_mode='categorical',\n",
    "        batch_size=1)\n",
    "\n",
    "filenames = test_generator.filenames\n",
    "nb_samples = len(filenames)\n",
    "\n",
    "predict = model.predict_generator(test_generator,steps = nb_samples)"
   ]
  },
  {
   "cell_type": "code",
   "execution_count": 211,
   "metadata": {
    "scrolled": false
   },
   "outputs": [],
   "source": [
    "predicted=predict>0.5"
   ]
  },
  {
   "cell_type": "code",
   "execution_count": 214,
   "metadata": {},
   "outputs": [],
   "source": [
    "standard['Category'] = np.where(predict>0.5,1,0)"
   ]
  },
  {
   "cell_type": "code",
   "execution_count": 215,
   "metadata": {},
   "outputs": [],
   "source": [
    "standard.to_csv(\"sample.csv\")"
   ]
  },
  {
   "cell_type": "code",
   "execution_count": null,
   "metadata": {},
   "outputs": [],
   "source": []
  }
 ],
 "metadata": {
  "kernelspec": {
   "display_name": "Python 3",
   "language": "python",
   "name": "python3"
  },
  "language_info": {
   "codemirror_mode": {
    "name": "ipython",
    "version": 3
   },
   "file_extension": ".py",
   "mimetype": "text/x-python",
   "name": "python",
   "nbconvert_exporter": "python",
   "pygments_lexer": "ipython3",
   "version": "3.5.6"
  }
 },
 "nbformat": 4,
 "nbformat_minor": 2
}
